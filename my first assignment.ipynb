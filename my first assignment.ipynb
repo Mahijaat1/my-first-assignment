{
 "cells": [
  {
   "cell_type": "markdown",
   "id": "c30de46a-7ba2-43b9-b852-dc0138cc5a14",
   "metadata": {},
   "source": [
    "# QUE 1 Explain with an example each when to use a for loop and a while loop:\n"
   ]
  },
  {
   "cell_type": "code",
   "execution_count": 1,
   "id": "5eaf4c68-6f2e-49eb-9d0b-9265c9da8008",
   "metadata": {},
   "outputs": [
    {
     "data": {
      "text/plain": [
       "45"
      ]
     },
     "execution_count": 1,
     "metadata": {},
     "output_type": "execute_result"
    }
   ],
   "source": [
    "d = [1,2,3,4,5,6,7,8,9]\n",
    "sum = 0\n",
    "for i in d:\n",
    "    sum = sum + i\n",
    "sum"
   ]
  },
  {
   "cell_type": "markdown",
   "id": "f83f1956-a951-4a93-8ac6-26a0d2c13ad0",
   "metadata": {},
   "source": [
    "# while loop is used to generate a Fibonacci sequence up to a certain limit"
   ]
  },
  {
   "cell_type": "code",
   "execution_count": 2,
   "id": "c642fc62-e350-43f7-a820-ed3f1c4b99f9",
   "metadata": {},
   "outputs": [
    {
     "name": "stdout",
     "output_type": "stream",
     "text": [
      "[0, 1, 1, 2, 3, 5, 8, 13, 21, 34, 55, 89, 144]\n"
     ]
    }
   ],
   "source": [
    "limit = 100\n",
    "fibonacci = [0, 1]\n",
    "while fibonacci[-1] < limit:\n",
    "    next_fibonacci = fibonacci[-1] + fibonacci[-2]\n",
    "    fibonacci.append(next_fibonacci)\n",
    "print(fibonacci)\n"
   ]
  },
  {
   "cell_type": "markdown",
   "id": "0b3d26ab-1e1a-48bd-9c7f-ac6460202f05",
   "metadata": {
    "tags": []
   },
   "source": [
    "# a while loop is used to ask the user for a password:"
   ]
  },
  {
   "cell_type": "code",
   "execution_count": 3,
   "id": "c35ae784-411e-48d0-a9cd-ca3cd880838b",
   "metadata": {},
   "outputs": [
    {
     "name": "stdin",
     "output_type": "stream",
     "text": [
      "Enter the password:  secret\n"
     ]
    },
    {
     "name": "stdout",
     "output_type": "stream",
     "text": [
      "Access granted!\n"
     ]
    }
   ],
   "source": [
    "password = \"\"\n",
    "while password != \"secret\":\n",
    "    password = input(\"Enter the password: \")\n",
    "print(\"Access granted!\")\n"
   ]
  },
  {
   "cell_type": "markdown",
   "id": "2324aabb-9ae7-4b6f-a63b-d79c7879a40b",
   "metadata": {},
   "source": [
    "# Q2.  Write a python program to print the sum and product of the first 10 natural numbers using for and while loop."
   ]
  },
  {
   "cell_type": "markdown",
   "id": "7b66f548-0680-4dbc-b20a-e0dd58870a58",
   "metadata": {
    "tags": []
   },
   "source": [
    "# Sum of first 10 natural numbers using for loop"
   ]
  },
  {
   "cell_type": "code",
   "execution_count": 4,
   "id": "18362860-d79c-4687-b04e-e5b848da4470",
   "metadata": {},
   "outputs": [
    {
     "name": "stdout",
     "output_type": "stream",
     "text": [
      "Sum of first 10 natural numbers: 55\n"
     ]
    }
   ],
   "source": [
    "sum = 0\n",
    "for i in range(1, 11):\n",
    "    sum += i\n",
    "print(\"Sum of first 10 natural numbers:\", sum)"
   ]
  },
  {
   "cell_type": "markdown",
   "id": "ec924a51-5ba6-408d-9d42-f28c20b01a82",
   "metadata": {},
   "source": [
    "# Sum of first 10 natural numbers using for loop"
   ]
  },
  {
   "cell_type": "code",
   "execution_count": 5,
   "id": "6fcfd342-c915-4490-9975-5bcc30eef4e5",
   "metadata": {},
   "outputs": [
    {
     "name": "stdout",
     "output_type": "stream",
     "text": [
      "product of first 10 natural numbers: 3628800\n"
     ]
    }
   ],
   "source": [
    "product = 1\n",
    "for i in range(1, 11):\n",
    "    product *= i\n",
    "print(\"product of first 10 natural numbers:\", product)"
   ]
  },
  {
   "cell_type": "markdown",
   "id": "11382dca-68cd-412d-9044-e104ae6efc02",
   "metadata": {},
   "source": [
    "# Sum of first 10 natural numbers using while loop\n"
   ]
  },
  {
   "cell_type": "code",
   "execution_count": 6,
   "id": "b580b1d1-8458-4f02-9f4a-5e44771249f5",
   "metadata": {},
   "outputs": [
    {
     "name": "stdout",
     "output_type": "stream",
     "text": [
      "Sum of first 10 natural numbers: 55\n"
     ]
    }
   ],
   "source": [
    "# Sum of first 10 natural numbers using while loop\n",
    "sum = 0\n",
    "i = 1\n",
    "while i <= 10:\n",
    "    sum += i\n",
    "    i += 1\n",
    "print(\"Sum of first 10 natural numbers:\", sum)\n"
   ]
  },
  {
   "cell_type": "markdown",
   "id": "1ee0c63f-4bd2-47bf-acba-59a33e518bf6",
   "metadata": {},
   "source": [
    "# Product of first 10 natural numbers using while loop\n"
   ]
  },
  {
   "cell_type": "code",
   "execution_count": 7,
   "id": "3310d8d0-b11f-43db-915d-6bd1e164f1f2",
   "metadata": {},
   "outputs": [
    {
     "name": "stdout",
     "output_type": "stream",
     "text": [
      "Product of first 10 natural numbers: 3628800\n"
     ]
    }
   ],
   "source": [
    "product = 1\n",
    "i = 1\n",
    "while i <= 10:\n",
    "    product *= i\n",
    "    i += 1\n",
    "print(\"Product of first 10 natural numbers:\", product)"
   ]
  },
  {
   "cell_type": "markdown",
   "id": "18ccc6e3-cb4e-43a9-abd7-a02f43346f36",
   "metadata": {},
   "source": [
    "# Q3. Create a python program to compute the electricity bill for a household"
   ]
  },
  {
   "cell_type": "code",
   "execution_count": 8,
   "id": "08ff6165-20f3-4940-b09a-39304b39d0ba",
   "metadata": {},
   "outputs": [
    {
     "name": "stdin",
     "output_type": "stream",
     "text": [
      "enter number of units consumed:  310\n"
     ]
    },
    {
     "name": "stdout",
     "output_type": "stream",
     "text": [
      "your payable bill: $ 2250.0\n"
     ]
    }
   ],
   "source": [
    "units = int(input(\"enter number of units consumed: \"))\n",
    "if units <= 100:\n",
    "    bill = units * 4.50\n",
    "elif units <= 200:\n",
    "    bill = 100*4.50 + (units - 100) * 6\n",
    "elif units <= 300:\n",
    "    bill = 100 * 4.50 + 100 * 6 + (units - 200) * 10\n",
    "else:\n",
    "    bill = 100 * 4.50 + 100 * 6 + 100 * 10 + (units - 300) * 20\n",
    "\n",
    "print(\"your payable bill: $\" ,bill)"
   ]
  },
  {
   "cell_type": "markdown",
   "id": "0e4fed75-f99e-4845-bd18-49a0a04e89cd",
   "metadata": {},
   "source": [
    "# Q4. Create a list of numbers from 1 to 100. Use for loop and while loop to calculate the cube of each number and if the cube of that number is divisible by 4 or 5 then append that number in a list and print that list."
   ]
  },
  {
   "cell_type": "code",
   "execution_count": 9,
   "id": "1f708ea9-a55d-4c6d-b9b0-89deb9ec681e",
   "metadata": {},
   "outputs": [
    {
     "data": {
      "text/plain": [
       "range(0, 101)"
      ]
     },
     "execution_count": 9,
     "metadata": {},
     "output_type": "execute_result"
    }
   ],
   "source": [
    "range(0,101)"
   ]
  },
  {
   "cell_type": "code",
   "execution_count": 10,
   "id": "326e14b1-f866-4f15-9ed1-16ac127e5e95",
   "metadata": {},
   "outputs": [],
   "source": [
    "num_list = list(range(0,101))"
   ]
  },
  {
   "cell_type": "code",
   "execution_count": 11,
   "id": "3f70e9a5-9efb-4acd-984e-5a28de830d26",
   "metadata": {},
   "outputs": [
    {
     "data": {
      "text/plain": [
       "[0,\n",
       " 1,\n",
       " 2,\n",
       " 3,\n",
       " 4,\n",
       " 5,\n",
       " 6,\n",
       " 7,\n",
       " 8,\n",
       " 9,\n",
       " 10,\n",
       " 11,\n",
       " 12,\n",
       " 13,\n",
       " 14,\n",
       " 15,\n",
       " 16,\n",
       " 17,\n",
       " 18,\n",
       " 19,\n",
       " 20,\n",
       " 21,\n",
       " 22,\n",
       " 23,\n",
       " 24,\n",
       " 25,\n",
       " 26,\n",
       " 27,\n",
       " 28,\n",
       " 29,\n",
       " 30,\n",
       " 31,\n",
       " 32,\n",
       " 33,\n",
       " 34,\n",
       " 35,\n",
       " 36,\n",
       " 37,\n",
       " 38,\n",
       " 39,\n",
       " 40,\n",
       " 41,\n",
       " 42,\n",
       " 43,\n",
       " 44,\n",
       " 45,\n",
       " 46,\n",
       " 47,\n",
       " 48,\n",
       " 49,\n",
       " 50,\n",
       " 51,\n",
       " 52,\n",
       " 53,\n",
       " 54,\n",
       " 55,\n",
       " 56,\n",
       " 57,\n",
       " 58,\n",
       " 59,\n",
       " 60,\n",
       " 61,\n",
       " 62,\n",
       " 63,\n",
       " 64,\n",
       " 65,\n",
       " 66,\n",
       " 67,\n",
       " 68,\n",
       " 69,\n",
       " 70,\n",
       " 71,\n",
       " 72,\n",
       " 73,\n",
       " 74,\n",
       " 75,\n",
       " 76,\n",
       " 77,\n",
       " 78,\n",
       " 79,\n",
       " 80,\n",
       " 81,\n",
       " 82,\n",
       " 83,\n",
       " 84,\n",
       " 85,\n",
       " 86,\n",
       " 87,\n",
       " 88,\n",
       " 89,\n",
       " 90,\n",
       " 91,\n",
       " 92,\n",
       " 93,\n",
       " 94,\n",
       " 95,\n",
       " 96,\n",
       " 97,\n",
       " 98,\n",
       " 99,\n",
       " 100]"
      ]
     },
     "execution_count": 11,
     "metadata": {},
     "output_type": "execute_result"
    }
   ],
   "source": [
    "num_list"
   ]
  },
  {
   "cell_type": "markdown",
   "id": "7f88f1f9-a6e8-49fd-b33d-f26c16094a74",
   "metadata": {},
   "source": [
    "# with for loop"
   ]
  },
  {
   "cell_type": "code",
   "execution_count": 12,
   "id": "d21394e3-8e8a-49de-b392-fc65a182b973",
   "metadata": {},
   "outputs": [
    {
     "name": "stdout",
     "output_type": "stream",
     "text": [
      "[2, 4, 5, 6, 8, 10, 12, 14, 15, 16, 18, 20, 22, 24, 25, 26, 28, 30, 32, 34, 35, 36, 38, 40, 42, 44, 45, 46, 48, 50, 52, 54, 55, 56, 58, 60, 62, 64, 65, 66, 68, 70, 72, 74, 75, 76, 78, 80, 82, 84, 85, 86, 88, 90, 92, 94, 95, 96, 98, 100]\n"
     ]
    }
   ],
   "source": [
    "num_list = list(range(1,101))\n",
    "\n",
    "divisible_list = []\n",
    "for n in num_list:\n",
    "    cube = n ** 3\n",
    "    if cube % 4 == 0 or cube % 5 == 0:\n",
    "        divisible_list.append(n)\n",
    "print(divisible_list)"
   ]
  },
  {
   "cell_type": "markdown",
   "id": "9c8374f6-7ff9-4a4b-9f10-a02e631aae65",
   "metadata": {},
   "source": [
    "# with while loop"
   ]
  },
  {
   "cell_type": "code",
   "execution_count": 13,
   "id": "9e647690-a7e2-4f60-b5a0-c1e749e894b6",
   "metadata": {},
   "outputs": [
    {
     "name": "stdout",
     "output_type": "stream",
     "text": [
      "[2, 4, 5, 6, 8, 10, 12, 14, 15, 16, 18, 20, 22, 24, 25, 26, 28, 30, 32, 34, 35, 36, 38, 40, 42, 44, 45, 46, 48, 50, 52, 54, 55, 56, 58, 60, 62, 64, 65, 66, 68, 70, 72, 74, 75, 76, 78, 80, 82, 84, 85, 86, 88, 90, 92, 94, 95, 96, 98, 100]\n"
     ]
    }
   ],
   "source": [
    "num_list = list(range(1, 101))\n",
    "divisible_list = []\n",
    "i = 0\n",
    "while i < len(num_list):\n",
    "    cube = num_list[i] ** 3\n",
    "    if cube % 4 == 0 or cube % 5 == 0:\n",
    "        divisible_list.append(num_list[i])\n",
    "    i = i+1\n",
    "print(divisible_list)\n",
    "  \n",
    "    "
   ]
  },
  {
   "cell_type": "markdown",
   "id": "8c65cfb4-bd29-4b45-bc25-dc4c8a1aec69",
   "metadata": {},
   "source": [
    "# Q5.  Write a program to filter count vowels in the below-given string.              string = \"I want to become a data scientist\"\n"
   ]
  },
  {
   "cell_type": "code",
   "execution_count": 25,
   "id": "c44409b8-f18f-4e72-9a73-f47d75c879ed",
   "metadata": {},
   "outputs": [
    {
     "name": "stdout",
     "output_type": "stream",
     "text": [
      "The total count of vowels is: 12\n"
     ]
    }
   ],
   "source": [
    "string = \"I want to become a data scientist\"\n",
    "vowels = ['a', 'e', 'i', 'o', 'u']\n",
    "vowel_count = 0\n",
    "for i in string:\n",
    "    if i.lower() in vowels:\n",
    "        vowel_count += 1 \n",
    "    \n",
    "print(\"The total count of vowels is:\", vowel_count)"
   ]
  },
  {
   "cell_type": "code",
   "execution_count": null,
   "id": "4ac1b5ba-9aac-4d6b-8686-1dcda3ac336c",
   "metadata": {},
   "outputs": [],
   "source": []
  }
 ],
 "metadata": {
  "kernelspec": {
   "display_name": "Python 3 (ipykernel)",
   "language": "python",
   "name": "python3"
  },
  "language_info": {
   "codemirror_mode": {
    "name": "ipython",
    "version": 3
   },
   "file_extension": ".py",
   "mimetype": "text/x-python",
   "name": "python",
   "nbconvert_exporter": "python",
   "pygments_lexer": "ipython3",
   "version": "3.10.8"
  }
 },
 "nbformat": 4,
 "nbformat_minor": 5
}
